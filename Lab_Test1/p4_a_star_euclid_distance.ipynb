{
 "cells": [
  {
   "cell_type": "markdown",
   "metadata": {},
   "source": [
    "## AI Lab test 1\n",
    "\n",
    "### Aim : Implement A* algorithm by considering Heuristic function as Euclidean distance for Maze Problem"
   ]
  },
  {
   "cell_type": "code",
   "execution_count": 1,
   "metadata": {},
   "outputs": [],
   "source": [
    "def isSafe(maze, x, y, visited): \n",
    "    # Checks if a move is safe / valid\n",
    "\n",
    "    if visited[x][y] != 1 and maze[x][y] == 1 and x >= 0 and x < len(maze) and y >= 0 and y < len(maze[0]): \n",
    "        return True\n",
    "    return False"
   ]
  },
  {
   "cell_type": "code",
   "execution_count": 2,
   "metadata": {},
   "outputs": [],
   "source": [
    "def euclid(loc, goal):\n",
    "    # Returns the euclidean distance of 2 matrices\n",
    "    return ((loc[0]-goal[0])**2 + (loc[1]-goal[1])**2)**0.5"
   ]
  },
  {
   "cell_type": "code",
   "execution_count": 3,
   "metadata": {},
   "outputs": [],
   "source": [
    "def printSolution( sol ): \n",
    "    # Prints the solution\n",
    "    for i in sol: \n",
    "        for j in i: \n",
    "            print(str(j) + \" \", end =\"\") \n",
    "        print(\"\") "
   ]
  },
  {
   "cell_type": "code",
   "execution_count": 4,
   "metadata": {},
   "outputs": [],
   "source": [
    "def solveMazeUtil(maze, x, y, sol, goal): \n",
    "    if maze[x][y]== 1 and x == goal[0] and y == goal[1]: \n",
    "        sol[x][y] = 1\n",
    "        return True\n",
    "    if isSafe(maze, x, y, sol):\n",
    "        sol[x][y] = 1\n",
    "        temp = sol.copy()\n",
    "        directions = [(x+1,y),(x-1,y),(x,y+1),(x,y-1),(x+1,y-1),(x-1,y-1),(x+1,y+1),(x-1,y+1)]   \n",
    "        directions = [d for d in directions if isSafe(maze, d[0], d[1], sol)]\n",
    "        costs = [euclid(loc,goal) for loc in directions]\n",
    "        directions = [d for _, d in sorted(zip(costs,directions))]\n",
    "        for i in range(len(costs)):\n",
    "            if isSafe(maze, directions[i][0], directions[i][1], sol):\n",
    "                if solveMazeUtil(maze, directions[i][0], directions[i][1], sol, goal):\n",
    "                    return True\n",
    "        sol[x][y] = 0\n",
    "        return False"
   ]
  },
  {
   "cell_type": "code",
   "execution_count": 5,
   "metadata": {},
   "outputs": [],
   "source": [
    "def solveMaze(maze, source, goal): \n",
    "    sol = [ [ 0 for j in range(len(maze[0])) ] for i in range(len(maze)) ] \n",
    "    if solveMazeUtil(maze, source[0], source[1], sol, goal) == False: \n",
    "        print(\"Solution doesn't exist\"); \n",
    "        return False\n",
    "    printSolution(sol) \n",
    "    return True"
   ]
  },
  {
   "cell_type": "code",
   "execution_count": 6,
   "metadata": {},
   "outputs": [
    {
     "name": "stdout",
     "output_type": "stream",
     "text": [
      "Enter number of rows and columns: 5 5\n",
      "Enter the maze : 1 for normal block, 0 for wall\n",
      "1 0 1 1 1\n",
      "0 1 1 1 1\n",
      "1 1 1 1 0\n",
      "1 1 0 0 1\n",
      "1 0 1 1 1\n",
      "Enter source i and j: 0 0\n",
      "Enter target i and j: 4 2\n",
      "1 0 0 0 0 \n",
      "0 1 0 0 0 \n",
      "0 0 1 0 0 \n",
      "0 1 0 0 0 \n",
      "0 0 1 0 0 \n"
     ]
    },
    {
     "data": {
      "text/plain": [
       "True"
      ]
     },
     "execution_count": 6,
     "metadata": {},
     "output_type": "execute_result"
    }
   ],
   "source": [
    "# maze = [ [1, 0, 1, 1, 1], \n",
    "#         [0, 1, 1, 1, 1], \n",
    "#         [1, 1, 1, 1, 0], \n",
    "#         [1, 1, 0, 0, 1],\n",
    "#         [1, 0, 1, 1, 1] ]\n",
    "row, column = [int(i) for i in input(\"Enter number of rows and columns: \").split()]\n",
    "maze = []\n",
    "print(\"Enter the maze : 1 for normal block, 0 for wall\")\n",
    "for i in range(row):\n",
    "    maze.append([int(j) for j in input().split()[:column]])\n",
    "source_i, source_j = [int(i) for i in input(\"Enter source i and j: \").split()]\n",
    "target_i, target_j = [int(i) for i in input(\"Enter target i and j: \").split()]\n",
    "\n",
    "solveMaze(maze, [source_i, source_i], [target_i, target_j])"
   ]
  }
 ],
 "metadata": {
  "kernelspec": {
   "display_name": "Python 3",
   "language": "python",
   "name": "python3"
  },
  "language_info": {
   "codemirror_mode": {
    "name": "ipython",
    "version": 3
   },
   "file_extension": ".py",
   "mimetype": "text/x-python",
   "name": "python",
   "nbconvert_exporter": "python",
   "pygments_lexer": "ipython3",
   "version": "3.8.5"
  }
 },
 "nbformat": 4,
 "nbformat_minor": 4
}
